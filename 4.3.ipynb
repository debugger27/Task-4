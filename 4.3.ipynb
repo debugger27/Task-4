{
 "cells": [
  {
   "cell_type": "code",
   "execution_count": 22,
   "id": "2f54e2d5",
   "metadata": {},
   "outputs": [],
   "source": [
    "import cv2\n",
    "import numpy\n",
    "a=cv2.imread('a.jpg')\n",
    "b=cv2.imread('b.jpg')"
   ]
  },
  {
   "cell_type": "code",
   "execution_count": 23,
   "id": "394809f2",
   "metadata": {},
   "outputs": [
    {
     "data": {
      "text/plain": [
       "(219, 230, 3)"
      ]
     },
     "execution_count": 23,
     "metadata": {},
     "output_type": "execute_result"
    }
   ],
   "source": [
    "a.shape"
   ]
  },
  {
   "cell_type": "code",
   "execution_count": 24,
   "id": "b13c7e9f",
   "metadata": {},
   "outputs": [
    {
     "data": {
      "text/plain": [
       "(275, 183, 3)"
      ]
     },
     "execution_count": 24,
     "metadata": {},
     "output_type": "execute_result"
    }
   ],
   "source": [
    "b.shape\n"
   ]
  },
  {
   "cell_type": "code",
   "execution_count": 25,
   "id": "da90b1b8",
   "metadata": {},
   "outputs": [],
   "source": [
    "b = b[:219,:,:]"
   ]
  },
  {
   "cell_type": "code",
   "execution_count": 26,
   "id": "2acbadd0",
   "metadata": {},
   "outputs": [
    {
     "data": {
      "text/plain": [
       "(219, 183, 3)"
      ]
     },
     "execution_count": 26,
     "metadata": {},
     "output_type": "execute_result"
    }
   ],
   "source": [
    "b.shape"
   ]
  },
  {
   "cell_type": "code",
   "execution_count": 27,
   "id": "5a09d171",
   "metadata": {},
   "outputs": [],
   "source": [
    "c = numpy.hstack((a,b))"
   ]
  },
  {
   "cell_type": "code",
   "execution_count": 28,
   "id": "5c9eef61",
   "metadata": {},
   "outputs": [],
   "source": [
    "cv2.imshow('final',c)\n",
    "cv2.waitKey()\n",
    "cv2.destroyAllWindows()"
   ]
  },
  {
   "cell_type": "code",
   "execution_count": null,
   "id": "0a909f9a",
   "metadata": {},
   "outputs": [],
   "source": []
  },
  {
   "cell_type": "code",
   "execution_count": null,
   "id": "ce780941",
   "metadata": {},
   "outputs": [],
   "source": []
  },
  {
   "cell_type": "code",
   "execution_count": null,
   "id": "00a9a53f",
   "metadata": {},
   "outputs": [],
   "source": []
  },
  {
   "cell_type": "code",
   "execution_count": null,
   "id": "a62d62b4",
   "metadata": {},
   "outputs": [],
   "source": []
  }
 ],
 "metadata": {
  "kernelspec": {
   "display_name": "Python 3",
   "language": "python",
   "name": "python3"
  },
  "language_info": {
   "codemirror_mode": {
    "name": "ipython",
    "version": 3
   },
   "file_extension": ".py",
   "mimetype": "text/x-python",
   "name": "python",
   "nbconvert_exporter": "python",
   "pygments_lexer": "ipython3",
   "version": "3.8.8"
  }
 },
 "nbformat": 4,
 "nbformat_minor": 5
}
